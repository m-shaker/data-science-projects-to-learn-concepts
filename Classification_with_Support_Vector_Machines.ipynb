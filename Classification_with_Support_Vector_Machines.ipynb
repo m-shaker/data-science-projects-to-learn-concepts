{
 "cells": [
  {
   "cell_type": "markdown",
   "metadata": {},
   "source": [
    "# Classification with Support Vector Machines\n",
    "\n",
    "## The Dataset\n",
    "\n",
    "This dataset consists of 3921 e-mails to a single account, some of which are spam. These data represent incoming emails for the first three months of 2012 for an email account.\n",
    "\n",
    "The table has 3921 (1252) observations on the following 21 variables.\n",
    "\n",
    "* spam: Indicator for whether the email was spam.\n",
    "* to_multiple: Indicator for whether the email was addressed to more than one recipient.\n",
    "* from: Whether the message was listed as from anyone (this is usually set by default for regular outgoing email).\n",
    "* cc: Indicator for whether anyone was CCed.\n",
    "* sent_email: Indicator for whether the sender had been sent an email in the last 30 days.\n",
    "* time: Time at which email was sent.\n",
    "* image: The number of images attached.\n",
    "* attach: The number of attached files.\n",
    "* dollar: The number of times a dollar sign or the word “dollar” appeared in the email.\n",
    "* winner: Indicates whether “winner” appeared in the email.\n",
    "* inherit: The number of times “inherit” (or an extension, such as “inheritance”) appeared in the email.\n",
    "* viagra: The number of times “viagra” appeared in the email.\n",
    "* password: The number of times “password” appeared in the email.\n",
    "* num_char: The number of characters in the email, in thousands.\n",
    "* line_breaks: The number of line breaks in the email (does not count text wrapping).\n",
    "* format: Indicates whether the email was written using HTML (e.g. may have included bolding or active links).\n",
    "* re_subj: Whether the subject started with “Re:”, “RE:”, “re:”, or “rE:”\n",
    "* exclaim_subj: Whether there was an exclamation point in the subject.\n",
    "* urgent_subj: Whether the word “urgent” was in the email subject.\n",
    "* exclaim_mess: The number of exclamation points in the email message.\n",
    "* number: Factor variable saying whether there was no number, a small number (under 1 million), or a big number.\n",
    "\n",
    "The data are from this R package: https://cran.r-project.org/web/packages/openintro/openintro.pdf"
   ]
  },
  {
   "cell_type": "code",
   "execution_count": 1,
   "metadata": {},
   "outputs": [],
   "source": [
    "# You may need these\n",
    "import pandas as pd\n",
    "import numpy as np\n",
    "from sklearn.model_selection import train_test_split, cross_val_score, cross_validate, GridSearchCV\n",
    "from sklearn.pipeline import Pipeline\n",
    "from sklearn.svm import SVC\n",
    "from sklearn.metrics import recall_score, make_scorer, confusion_matrix\n",
    "from sklearn.utils.multiclass import unique_labels\n",
    "from sklearn.preprocessing import MinMaxScaler\n",
    "import matplotlib.pyplot as plt\n",
    "%matplotlib inline"
   ]
  },
  {
   "cell_type": "markdown",
   "metadata": {},
   "source": [
    "## Part A: \n",
    "\n",
    "Read in the `email.txt` dataset."
   ]
  },
  {
   "cell_type": "code",
   "execution_count": 2,
   "metadata": {},
   "outputs": [],
   "source": [
    "#Reading the email.txt dataset\n",
    "df = pd.read_csv('email.txt', delimiter='\\t')\n",
    "\n",
    "#Dropping columns that caused trouble\n",
    "df = df.drop(['time','number', 'winner'], axis='columns')\n",
    "\n",
    "#Defining X and y\n",
    "X = df.drop('spam', axis = 'columns')\n",
    "y = df.spam.values"
   ]
  },
  {
   "cell_type": "markdown",
   "metadata": {},
   "source": [
    "## Part B: \n",
    "\n",
    "Split the data into train and test.  Hold out 50% of observations as the test set.  Pass `random_state=0` to `train_test_split` to ensure you get the same train and tests sets as the solution."
   ]
  },
  {
   "cell_type": "code",
   "execution_count": 3,
   "metadata": {},
   "outputs": [],
   "source": [
    "#Splitting the data into training and testing sets \n",
    "Xtrain, Xtest, ytrain, ytest = train_test_split(X,\n",
    "                                                y, \n",
    "                                                test_size = 0.5, \n",
    "                                                random_state = 0)"
   ]
  },
  {
   "cell_type": "markdown",
   "metadata": {},
   "source": [
    "## Part C: \n",
    "\n",
    "Create a pipeline for your support vector machine.  You can start with a `kernel=\"linear\"` and `gamma=\"auto\"`."
   ]
  },
  {
   "cell_type": "code",
   "execution_count": 4,
   "metadata": {},
   "outputs": [],
   "source": [
    "scale_svc_pipe = Pipeline([\n",
    "    ('scale', MinMaxScaler(feature_range=(-1,1))),\n",
    "    ('MySVC', SVC(kernel='linear', gamma = 'auto', C = 1) )\n",
    "])"
   ]
  },
  {
   "cell_type": "markdown",
   "metadata": {},
   "source": [
    "## Part D: \n",
    "\n",
    "Use your model to construct a confusion matrix by fitting and predicting on the training data (I've inlcluded a little helper function to make looking at the confusion matrix a little easier). Then answer the following using the confusion matrix (don't use sklearn's functions):\n",
    "\n",
    "* What is your model's training accuracy?\n",
    "* What is your model's training precision?\n",
    "* What is your model's training recall?"
   ]
  },
  {
   "cell_type": "code",
   "execution_count": 5,
   "metadata": {},
   "outputs": [
    {
     "name": "stdout",
     "output_type": "stream",
     "text": [
      "Confusion matrix, without normalization\n"
     ]
    },
    {
     "data": {
      "text/plain": [
       "<matplotlib.axes._subplots.AxesSubplot at 0x16c7edaad30>"
      ]
     },
     "execution_count": 5,
     "metadata": {},
     "output_type": "execute_result"
    },
    {
     "data": {
      "image/png": "[encoded data removed]",
      "text/plain": [
       "<Figure size 432x288 with 2 Axes>"
      ]
     },
     "metadata": {
      "needs_background": "light"
     },
     "output_type": "display_data"
    }
   ],
   "source": [
    "def plot_confusion_matrix(y_true, y_pred, classes=np.array([0.0,1.0]), normalize=False, title=None, cmap=plt.cm.Blues):\n",
    "    \"\"\"\n",
    "    This function prints and plots the confusion matrix.\n",
    "    Normalization can be applied by setting `normalize=True`.\n",
    "    \"\"\"\n",
    "    if not title:\n",
    "        if normalize:\n",
    "            title = 'Normalized confusion matrix'\n",
    "        else:\n",
    "            title = 'Confusion matrix, without normalization'\n",
    "\n",
    "    # Compute confusion matrix\n",
    "    cm = confusion_matrix(y_true, y_pred)\n",
    "    # Only use the labels that appear in the data\n",
    "    classes = classes[unique_labels(y_true, y_pred)]\n",
    "    if normalize:\n",
    "        cm = cm.astype('float') / cm.sum(axis=1)[:, np.newaxis]\n",
    "        print(\"Normalized confusion matrix\")\n",
    "    else:\n",
    "        print('Confusion matrix, without normalization')\n",
    "\n",
    "    fig, ax = plt.subplots()\n",
    "    ax.axis('equal')\n",
    "    im = ax.imshow(cm, interpolation='nearest', cmap=cmap)\n",
    "    ax.figure.colorbar(im, ax=ax)\n",
    "    # We want to show all ticks...\n",
    "    ax.set(xticks=np.arange(cm.shape[1]),\n",
    "           yticks=np.arange(cm.shape[0]),\n",
    "           # ... and label them with the respective list entries\n",
    "           xticklabels=classes, yticklabels=classes,\n",
    "           title=title,\n",
    "           ylabel='True label',\n",
    "           xlabel='Predicted label')\n",
    "\n",
    "    # Rotate the tick labels and set their alignment.\n",
    "    plt.setp(ax.get_xticklabels(), rotation=45, ha=\"right\",\n",
    "             rotation_mode=\"anchor\")\n",
    "\n",
    "    # Loop over data dimensions and create text annotations.\n",
    "    fmt = '.2f' if normalize else 'd'\n",
    "    thresh = cm.max() / 2.\n",
    "    for i in range(cm.shape[0]):\n",
    "        for j in range(cm.shape[1]):\n",
    "            ax.text(j, i, format(cm[i, j], fmt),\n",
    "                    ha=\"center\", va=\"center\",\n",
    "                    color=\"white\" if cm[i, j] > thresh else \"black\")\n",
    "    fig.tight_layout();\n",
    "    return ax\n",
    "\n",
    "\n",
    "#Fitting and predicting on the training data \n",
    "svm = scale_svc_pipe.fit(Xtrain, ytrain)\n",
    "y_pred = svm.predict(Xtrain)\n",
    "\n",
    "#Plotting confusion matrix\n",
    "plot_confusion_matrix(ytrain, y_pred)"
   ]
  },
  {
   "cell_type": "code",
   "execution_count": 6,
   "metadata": {},
   "outputs": [
    {
     "name": "stdout",
     "output_type": "stream",
     "text": [
      "Model Accuracy is 0.91\n",
      "Model Precision is 1.00\n",
      "Model Recall is 0.02\n"
     ]
    }
   ],
   "source": [
    "cm = confusion_matrix(ytrain, y_pred)\n",
    "\n",
    "# Sum of diagonal entries divided by total sum\n",
    "model_accuracy = np.diag(cm).sum()/cm.sum()\n",
    "\n",
    "# Bottom right divided by sum of second column\n",
    "model_precision = cm[1,1]/np.sum(cm[:,1])\n",
    "\n",
    "# Bottom right divided by sum of second row\n",
    "model_recall = cm[1,1]/np.sum(cm[1,:])\n",
    "\n",
    "print(f\"Model Accuracy is {model_accuracy:.2f}\")\n",
    "print(f\"Model Precision is {model_precision:.2f}\")\n",
    "print(f\"Model Recall is {model_recall:.2f}\")"
   ]
  },
  {
   "cell_type": "markdown",
   "metadata": {},
   "source": [
    "## Part E: \n",
    "\n",
    "Estimate your support vector machine's out of sample recall by using 5 fold cross validation."
   ]
  },
  {
   "cell_type": "code",
   "execution_count": 7,
   "metadata": {},
   "outputs": [
    {
     "name": "stdout",
     "output_type": "stream",
     "text": [
      "SVM out of sample recall: 0.01\n"
     ]
    }
   ],
   "source": [
    "scoring = {'rec': 'recall'}\n",
    "\n",
    "svm_recall = cross_validate(scale_svc_pipe, \n",
    "                         Xtrain, \n",
    "                         ytrain, \n",
    "                         scoring=scoring,\n",
    "                         cv=5, \n",
    "                         return_train_score=True)\n",
    "\n",
    "print(f\"SVM out of sample recall: {svm_recall['test_rec'].mean():.2f}\")"
   ]
  },
  {
   "cell_type": "markdown",
   "metadata": {},
   "source": [
    "## Part F: \n",
    "\n",
    "  Use sklearn's `GridSearchCV` to search over the kernel and gamma. Search over `kernel = ['rbf','sigmoid']` and `gamma = np.linspace(1e-5, 1e-2)`.  Use recall as your metric for scoring.\n",
    "  \n",
    "\n",
    "`GridSearchCV` is a way to cross validate your models for a variety of parameters.  Read more about `GridSearchCV` [here](https://scikit-learn.org/stable/modules/generated/sklearn.model_selection.GridSearchCV.html)."
   ]
  },
  {
   "cell_type": "code",
   "execution_count": 8,
   "metadata": {},
   "outputs": [],
   "source": [
    "param_grid = dict(MySVC__kernel = ['rbf','sigmoid'], \n",
    "                 MySVC__gamma = np.linspace(1e-5, 10000))\n",
    "\n",
    "\n",
    "grid = GridSearchCV(scale_svc_pipe, param_grid, cv=5, scoring='recall')"
   ]
  },
  {
   "cell_type": "markdown",
   "metadata": {},
   "source": [
    "## Part G: \n",
    "\n",
    "What was the cross validated recall for your regularized model?  If you called your model grid search `svc_gscv` you can access the best model's score by performing `svc_gscv.best_score_`.\n"
   ]
  },
  {
   "cell_type": "code",
   "execution_count": 9,
   "metadata": {},
   "outputs": [
    {
     "name": "stdout",
     "output_type": "stream",
     "text": [
      "The cross validated recall for the regularized model is: 0.33\n"
     ]
    }
   ],
   "source": [
    "#Fitting the grid with data\n",
    "model = grid.fit(Xtrain,ytrain)\n",
    "\n",
    "print(f\"The cross validated recall for the regularized model is: {(grid.best_score_):.2f}\")"
   ]
  },
  {
   "cell_type": "markdown",
   "metadata": {},
   "source": [
    "## Part H: \n",
    "\n",
    "You can access the results of the cross validation `.cv_results_` method. If you called your estimator `svc_gcsv` then call `svc_gscv.cv_results_`.  This will return a dictionary.  You can turn it into a dataframe using `pandas.DataFrame` (this will make it easier to manipulate).  Learn more about `.cv_results_` [here](https://scikit-learn.org/stable/modules/generated/sklearn.model_selection.GridSearchCV.html).\n",
    "\n",
    "Plot how the mean test error changes as `gamma` changes.  Color the lines according to `kernel`. What do you see happening to the cross validated error as gamma increases?"
   ]
  },
  {
   "cell_type": "code",
   "execution_count": 10,
   "metadata": {},
   "outputs": [
    {
     "data": {
      "text/plain": [
       "<matplotlib.legend.Legend at 0x16c7eac2c50>"
      ]
     },
     "execution_count": 10,
     "metadata": {},
     "output_type": "execute_result"
    },
    {
     "data": {
      "image/png": "[encoded data removed]",
      "text/plain": [
       "<Figure size 504x432 with 1 Axes>"
      ]
     },
     "metadata": {
      "needs_background": "light"
     },
     "output_type": "display_data"
    }
   ],
   "source": [
    "#Turning .cv_results_ into dataframe\n",
    "cv_results = pd.DataFrame(model.cv_results_)\n",
    "\n",
    "#Splitting the gamma values and mean test errors by kernel\n",
    "gamma_rbf = cv_results.loc[cv_results['param_MySVC__kernel'] == 'rbf', 'param_MySVC__gamma']\n",
    "mean_test_error_rbf = cv_results.loc[cv_results['param_MySVC__kernel'] == 'rbf', 'mean_test_score']\n",
    "\n",
    "gamma_sigmoid = cv_results.loc[cv_results['param_MySVC__kernel'] == 'sigmoid', 'param_MySVC__gamma']\n",
    "mean_test_error_sigmoid = cv_results.loc[cv_results['param_MySVC__kernel'] == 'sigmoid', 'mean_test_score']\n",
    "\n",
    "#Plotting the graph\n",
    "plt.figure(figsize = (7,6))\n",
    "plt.plot(gamma_rbf, mean_test_error_rbf, label=\"RBF Kernel\")\n",
    "plt.plot(gamma_sigmoid, mean_test_error_sigmoid, label=\"Sigmoid Kernel\")\n",
    "plt.xlabel('Gamma')\n",
    "plt.ylabel('Mean Test Error')\n",
    "plt.title('The Mean Test Error vs Gamma')\n",
    "plt.legend()"
   ]
  },
  {
   "cell_type": "markdown",
   "metadata": {},
   "source": [
    "#### What do you see happening to the cross validated error as gamma increases?\n",
    "\n",
    "For the RBF Kernel, the cross validated error initially increased as gamma increased, which make sense because when the gamma value becomes higher it tries to exactly fit the training data set which can lead to overfitting. When gamma was equal to approximetly 1000 and greater, the cross validated error stayed pretty much constant. \n",
    "\n",
    "For the Sigmoid Kernel, the cross validated error remained zero for all values of gamma from 1e-5 to 10000."
   ]
  }
 ],
 "metadata": {
  "kernelspec": {
   "display_name": "Python 3",
   "language": "python",
   "name": "python3"
  },
  "language_info": {
   "codemirror_mode": {
    "name": "ipython",
    "version": 3
   },
   "file_extension": ".py",
   "mimetype": "text/x-python",
   "name": "python",
   "nbconvert_exporter": "python",
   "pygments_lexer": "ipython3",
   "version": "3.7.3"
  }
 },
 "nbformat": 4,
 "nbformat_minor": 4
}
