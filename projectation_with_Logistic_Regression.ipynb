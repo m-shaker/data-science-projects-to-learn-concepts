{
 "cells": [
  {
   "cell_type": "markdown",
   "metadata": {},
   "source": [
    "# projectation with Logistic Regression\n",
    "\n",
    "## The Dataset\n",
    "\n",
    "This dataset is originally from the National Institute of Diabetes and Digestive and Kidney Diseases. The objective of the dataset is to diagnostically predict whether or not a patient has diabetes, based on certain diagnostic measurements included in the dataset. Several constraints were placed on the selection of these instances from a larger database. In particular, all patients here are females at least 21 years old of Pima Indian heritage.\n",
    "\n",
    "You can read more about the data and the variables [here](https://www.kaggle.com/uciml/pima-indians-diabetes-database)."
   ]
  },
  {
   "cell_type": "code",
   "execution_count": 1,
   "metadata": {},
   "outputs": [],
   "source": [
    "import pandas as pd\n",
    "import numpy as np\n",
    "from sklearn.model_selection import train_test_split, cross_val_score, GridSearchCV\n",
    "from sklearn.pipeline import Pipeline\n",
    "from sklearn.linear_model import LogisticRegression\n",
    "from sklearn.preprocessing import StandardScaler\n",
    "import matplotlib.pyplot as plt\n",
    "from sklearn.metrics import confusion_matrix\n",
    "from sklearn.utils.multiclass import unique_labels"
   ]
  },
  {
   "cell_type": "markdown",
   "metadata": {},
   "source": [
    "## Part A: 1 Mark\n",
    "\n",
    "Read in the `diabetes.csv` dataset."
   ]
  },
  {
   "cell_type": "code",
   "execution_count": 2,
   "metadata": {},
   "outputs": [],
   "source": [
    "df = pd.read_csv('diabetes.csv')"
   ]
  },
  {
   "cell_type": "markdown",
   "metadata": {},
   "source": [
    "## Part B: 1 Mark\n",
    "\n",
    "Split the data into train and test.  Hold out 50% of observations as the test set.  Pass `random_state=0` to `train_test_split` to ensure you get the same train and tests sets as the solution."
   ]
  },
  {
   "cell_type": "code",
   "execution_count": 3,
   "metadata": {},
   "outputs": [],
   "source": [
    "#Defining X and y\n",
    "y = df.Outcome\n",
    "X = df.drop('Outcome', axis = 'columns')\n",
    "\n",
    "#Splitting the data into training and testing sets \n",
    "Xtrain, Xtest, ytrain, ytest = train_test_split(X,\n",
    "                                                y, \n",
    "                                                test_size = 0.5, \n",
    "                                                random_state = 0)"
   ]
  },
  {
   "cell_type": "markdown",
   "metadata": {},
   "source": [
    "## Part C: 3 Marks\n",
    "\n",
    "Read the documentation for [sklearn's `LogisticRegression`](https://scikit-learn.org/stable/modules/generated/sklearn.linear_model.LogisticRegression.html).  In no more than 2 sentences per bullet point, answer the following in your own words.\n",
    "\n",
    "* Does `LogisticRegression` use a penalty by default?  If yes, what penalty?  If it does, does this mean that `LogisticRegression` actually uses ridge regression or the LASSO as the default?\n",
    "\n",
    "\n",
    "\n",
    "* What is the interpretation of the parmater `C`?  How does it relate to the regularization strength $\\lambda$?\n",
    "\n",
    "\n",
    "\n",
    "* If I were to ask you to use a regularization strengh of 2 (i.e. $\\lambda=2$), what value of `C` would you pass?\n",
    "\n"
   ]
  },
  {
   "cell_type": "markdown",
   "metadata": {},
   "source": [
    "Does LogisticRegression use a penalty by default? If yes, what penalty? If it does, does this mean that LogisticRegression actually uses ridge regression or the LASSO as the default?\n",
    "\n",
    "Yes, it does. It uses the L2 norm or in other words the squared magnitude of the coefficient as the penalty term to the loss function. This means that LogisticRegression by default uses ridge regression.  \n",
    "\n",
    "\n",
    "What is the interpretation of the parameter C? How does it relate to the regularization strength 𝜆?\n",
    "\n",
    "The parameter C is the tuning parameter that describes how much we want to penalize the flexibility of our model. It's inversely related to the regularization strength 𝜆.\n",
    "\n",
    "If I were to ask you to use a regularization strength of 2 (i.e.  𝜆=2 ), what value of C would you pass?\n",
    "\n",
    "I would pass C = 0.5 "
   ]
  },
  {
   "cell_type": "markdown",
   "metadata": {},
   "source": [
    "## Part D: 1 Mark\n",
    "\n",
    "Create a pipeline for logistic regression (that is, the unpenalized version).  You will need to choose an alternative solver for `LogisticRegression` since the default solver does not support the no penalty option. Any solver will do, so just take a look at the docs to see what is available. I used `solver=\"newton-cg\"` which seems to work fine.\n",
    "\n",
    "If you get a warning about convergence of `coef_`, try increasing the `max_iter` parameter.  I used `max_iter=10000` which seems to supress the warning."
   ]
  },
  {
   "cell_type": "code",
   "execution_count": 4,
   "metadata": {},
   "outputs": [],
   "source": [
    "logit_pipe = Pipeline([\n",
    "    ('logistic_regression', LogisticRegression(solver='newton-cg', \n",
    "                                              penalty='none',  \n",
    "                                              max_iter = 10000))\n",
    "])"
   ]
  },
  {
   "cell_type": "markdown",
   "metadata": {},
   "source": [
    "## Part E: 3 Marks\n",
    "\n",
    "Use your model to construct a confusion matrix by fitting and predicting on the training data (I've inlcluded a little helper function to make looking at the confusion matrix a little easier). Then answer the following using the confusion matrix (don't use sklearn's functions):\n",
    "\n",
    "* What is your model's training accuracy?\n",
    "* What is your model's training precision?\n",
    "* What is your model's training recall?"
   ]
  },
  {
   "cell_type": "code",
   "execution_count": 5,
   "metadata": {},
   "outputs": [
    {
     "name": "stdout",
     "output_type": "stream",
     "text": [
      "Confusion matrix, without normalization\n"
     ]
    },
    {
     "data": {
      "text/plain": [
       "<matplotlib.axes._subplots.AxesSubplot at 0x1f65264bb38>"
      ]
     },
     "execution_count": 5,
     "metadata": {},
     "output_type": "execute_result"
    },
    {
     "data": {
      "image/png": "[encoded data removed]",
      "text/plain": [
       "<Figure size 432x288 with 2 Axes>"
      ]
     },
     "metadata": {
      "needs_background": "light"
     },
     "output_type": "display_data"
    }
   ],
   "source": [
    "def plot_confusion_matrix(y_true, y_pred, classes,\n",
    "                          normalize=False,\n",
    "                          title=None,\n",
    "                          cmap=plt.cm.Blues):\n",
    "    \"\"\"\n",
    "    This function prints and plots the confusion matrix.\n",
    "    Normalization can be applied by setting `normalize=True`.\n",
    "    \"\"\"\n",
    "    if not title:\n",
    "        if normalize:\n",
    "            title = 'Normalized confusion matrix'\n",
    "        else:\n",
    "            title = 'Confusion matrix, without normalization'\n",
    "\n",
    "    # Compute confusion matrix\n",
    "    cm = confusion_matrix(y_true, y_pred)\n",
    "    # Only use the labels that appear in the data\n",
    "    classes = classes[unique_labels(y_true, y_pred)]\n",
    "    if normalize:\n",
    "        cm = cm.astype('float') / cm.sum(axis=1)[:, np.newaxis]\n",
    "        print(\"Normalized confusion matrix\")\n",
    "    else:\n",
    "        print('Confusion matrix, without normalization')\n",
    "\n",
    "    fig, ax = plt.subplots()\n",
    "    ax.axis('equal')\n",
    "    im = ax.imshow(cm, interpolation='nearest', cmap=cmap)\n",
    "    ax.figure.colorbar(im, ax=ax)\n",
    "    # We want to show all ticks...\n",
    "    ax.set(xticks=np.arange(cm.shape[1]),\n",
    "           yticks=np.arange(cm.shape[0]),\n",
    "           # ... and label them with the respective list entries\n",
    "           xticklabels=classes, yticklabels=classes,\n",
    "           title=title,\n",
    "           ylabel='True label',\n",
    "           xlabel='Predicted label')\n",
    "\n",
    "    # Rotate the tick labels and set their alignment.\n",
    "    plt.setp(ax.get_xticklabels(), rotation=45, ha=\"right\",\n",
    "             rotation_mode=\"anchor\")\n",
    "\n",
    "    # Loop over data dimensions and create text annotations.\n",
    "    fmt = '.2f' if normalize else 'd'\n",
    "    thresh = cm.max() / 2.\n",
    "    for i in range(cm.shape[0]):\n",
    "        for j in range(cm.shape[1]):\n",
    "            ax.text(j, i, format(cm[i, j], fmt),\n",
    "                    ha=\"center\", va=\"center\",\n",
    "                    color=\"white\" if cm[i, j] > thresh else \"black\")\n",
    "    fig.tight_layout();\n",
    "    return ax\n",
    "\n",
    "\n",
    "#Fitting and predicting on the training data \n",
    "lr = logit_pipe.fit(Xtrain, ytrain)\n",
    "y_pred = lr.predict(Xtrain)\n",
    "\n",
    "#Plotting confusion matrix\n",
    "classes = np.array([0,1])  \n",
    "plot_confusion_matrix(ytrain, y_pred, classes)"
   ]
  },
  {
   "cell_type": "code",
   "execution_count": 6,
   "metadata": {},
   "outputs": [
    {
     "name": "stdout",
     "output_type": "stream",
     "text": [
      "The model's training accuracy is 0.765625\n",
      "The model's training precision is 0.7155963302752294\n",
      "The model's training recall is 0.5693430656934306\n"
     ]
    }
   ],
   "source": [
    "#From the confusion matrix we can define tp, tn, fp, and fn\n",
    "tp = 78 \n",
    "tn = 216\n",
    "fp = 31\n",
    "fn = 59\n",
    "\n",
    "#Accuracy\n",
    "acc = (tp + tn)/(tp + tn + fp + fn)\n",
    "    \n",
    "# Precision\n",
    "precision = tp / (tp + fp)\n",
    "    \n",
    "# Recall\n",
    "recall = tp / (tp + fn)\n",
    "\n",
    "\n",
    "#Print results\n",
    "print(\"The model's training accuracy is\", acc)\n",
    "print(\"The model's training precision is\", precision)\n",
    "print(\"The model's training recall is\", recall)"
   ]
  },
  {
   "cell_type": "markdown",
   "metadata": {},
   "source": [
    "## Part F:  1 Mark\n",
    "\n",
    "Estimate logistic regressions out of sample recall by using 5 fold cross validation."
   ]
  },
  {
   "cell_type": "code",
   "execution_count": 7,
   "metadata": {},
   "outputs": [
    {
     "name": "stdout",
     "output_type": "stream",
     "text": [
      "The estimated logistic regressions out of sample recall is 0.5638176638176638\n"
     ]
    }
   ],
   "source": [
    "cv = cross_val_score(logit_pipe, \n",
    "                    Xtest, \n",
    "                    ytest, \n",
    "                    cv = 5, \n",
    "                    scoring = 'recall')\n",
    "\n",
    "out_sample_recall = cv.mean()\n",
    "\n",
    "#Printing results\n",
    "print(\"The estimated logistic regressions out of sample recall is\", out_sample_recall)"
   ]
  },
  {
   "cell_type": "markdown",
   "metadata": {},
   "source": [
    "# Part F: 2 Marks\n",
    "\n",
    "Create a new pipeline for either an l2 penalty in logistic regression or an l1 penalty.  Remember, penalized models perform best when you scale the inputs.  You should add `StandardScaler()` to your pipeline."
   ]
  },
  {
   "cell_type": "code",
   "execution_count": 8,
   "metadata": {},
   "outputs": [],
   "source": [
    "logit_pipe_l2 = Pipeline([\n",
    "    ('scale', StandardScaler()), \n",
    "    ('logistic_regression', LogisticRegression(solver='newton-cg', \n",
    "                                              penalty='l2',  \n",
    "                                              max_iter = 10000))\n",
    "])"
   ]
  },
  {
   "cell_type": "markdown",
   "metadata": {},
   "source": [
    "## Part F: 2 Marks\n",
    "\n",
    "  Use sklearn's `GridSearchCV` to search over the regulatization strength ranging from 0.01 to 10 in 25 evenly spaced increments for you model.  Use recall as your metric for scoring.\n",
    "  \n",
    "\n",
    "`GridSearchCV` is a way to cross validate your models for a variety of parameters.  Read more about `GridSearchCV` [here](https://scikit-learn.org/stable/modules/generated/sklearn.model_selection.GridSearchCV.html)."
   ]
  },
  {
   "cell_type": "code",
   "execution_count": 9,
   "metadata": {},
   "outputs": [],
   "source": [
    "#Defining the  regulatization strength range\n",
    "range_dist = (10-0.01)/25\n",
    "increments = np.arange(0.01,10,range_dist).tolist()\n",
    "\n",
    "\n",
    "#Defining the dictionary for param_grid\n",
    "param_grid = dict(logistic_regression__C=increments)\n",
    "\n",
    "\n",
    "grid = GridSearchCV(logit_pipe_l2, param_grid, cv=5, scoring='recall')"
   ]
  },
  {
   "cell_type": "markdown",
   "metadata": {},
   "source": [
    "## Part G: 1 Mark\n",
    "\n",
    "What was the cross validated recall for your regularized model?  If you called your model grid search `lasso_gscv` you can access the best model's score by performing `lasso_gscv.best_score_`.\n"
   ]
  },
  {
   "cell_type": "code",
   "execution_count": 10,
   "metadata": {},
   "outputs": [
    {
     "name": "stdout",
     "output_type": "stream",
     "text": [
      "The cross validated recall for the regularized modelis: 0.5639133725071225\n"
     ]
    },
    {
     "name": "stderr",
     "output_type": "stream",
     "text": [
      "C:\\Users\\Moustafa\\Anaconda3\\lib\\site-packages\\sklearn\\model_selection\\_search.py:813: DeprecationWarning: The default of the `iid` parameter will change from True to False in version 0.22 and will be removed in 0.24. This will change numeric results when test-set sizes are unequal.\n",
      "  DeprecationWarning)\n"
     ]
    }
   ],
   "source": [
    "#Fitting the grid with data\n",
    "grid.fit(Xtest,ytest)\n",
    "\n",
    "print(f\"The cross validated recall for the regularized modelis: {(grid.best_score_)}\")"
   ]
  },
  {
   "cell_type": "markdown",
   "metadata": {},
   "source": [
    "## Part H:  2 Marks\n",
    "\n",
    "Print out the `C` parameter for your regualized model.  Answer the following:\n",
    "\n",
    "* From this value what is the regularization strength $\\lambda$?  \n",
    "\n",
    "\n",
    "\n",
    "* In 1-2 sentences, would you prefer a regularized model for this dataset?  When might a regularized model make more sense?\n",
    "\n"
   ]
  },
  {
   "cell_type": "code",
   "execution_count": 11,
   "metadata": {},
   "outputs": [
    {
     "name": "stdout",
     "output_type": "stream",
     "text": [
      "The C parameter for the regulized model is: 0.4096\n",
      "The regularization strength 𝜆 is: 2.44140625\n"
     ]
    }
   ],
   "source": [
    "#The parameter C\n",
    "C = grid.best_params_.get('logistic_regression__C')\n",
    "\n",
    "#Printing the results\n",
    "print(f\"The C parameter for the regulized model is: {C}\")\n",
    "print(f\"The regularization strength 𝜆 is: {1/C}\")"
   ]
  },
  {
   "cell_type": "markdown",
   "metadata": {},
   "source": [
    "In 1-2 sentences, would you prefer a regularized model for this dataset? When might a regularized model make more sense?\n",
    "\n",
    "I would rather prefer to use a regularized model when we have too many parameters for the given amount of data and are not sure which are important but we want to consider all of them. The more we regularize the less we fit the data, so we should only consider regularization when there is an added benefit."
   ]
  },
  {
   "cell_type": "markdown",
   "metadata": {},
   "source": [
    "# BONUS: 2 Marks\n",
    "\n",
    "The following is a bonus question worth 2 marks. If you do not answer this question, there is no penalty.  You can't earn more than 100% on this assignment.\n",
    "\n",
    "LASSO and other penalized estimators make the assumption that the model is what we call *sparse* (that means, not every variable is actually related to the outcome).  We can see which variables are more important than others by examining what is known as the *coefficient paths*.\n",
    "\n",
    "Here are the steps to create the coefficient path:\n",
    "\n",
    "1) Initialize an array of regularization strengths (typically going from something very small, maybe 0.1, to something very large, maybe 100.\n",
    "\n",
    "2) For each regularization strength, fit your model.  Keep track of the coefficients.\n",
    "\n",
    "3) Plot the coefficient values against the log of the regularization strength.\n",
    "\n",
    "\n",
    "You've done this correctly if you can create a plot which looks like [this](https://cvxpy.readthedocs.io/en/latest/_images/lasso_regression_11_0.svg).\n",
    "\n",
    "To earn the bonus marks, do the following:\n",
    "\n",
    "* Construct the coefficient path for logistic regression with an l1 penalty.\n",
    "* Determine which coefficient is most strongly related to the outcome be examining which coefficent reaches 0 last.\n",
    "\n",
    "\n"
   ]
  },
  {
   "cell_type": "code",
   "execution_count": 12,
   "metadata": {},
   "outputs": [],
   "source": [
    "#Initializing an array of regularization strengths\n",
    "reg_strength = np.arange(0.001, 20, 0.001)\n",
    "\n",
    "#Empty arrays to keep track of coefficients \n",
    "coef_arr_1 = np.array([])\n",
    "coef_arr_2 = np.array([])\n",
    "coef_arr_3 = np.array([])\n",
    "coef_arr_4 = np.array([])\n",
    "coef_arr_5 = np.array([])\n",
    "coef_arr_6 = np.array([])\n",
    "coef_arr_7 = np.array([])\n",
    "coef_arr_8 = np.array([])\n",
    "\n",
    "#Normalizing the input data\n",
    "X = (X - np.mean(X)) / np.std(X)\n",
    "\n",
    "#For loop to fit the model for each given regularization strength \n",
    "for i in reg_strength:   \n",
    "    \n",
    "    #Fitting the model\n",
    "    model = LogisticRegression(solver='saga', penalty='l1', C = i, max_iter = 10000)\n",
    "    fitted_model = model.fit(X,y)\n",
    "\n",
    "    #Extracting coefficients \n",
    "    coef_1 = fitted_model.coef_[0][0]\n",
    "    coef_2 = fitted_model.coef_[0][1]\n",
    "    coef_3 = fitted_model.coef_[0][2]\n",
    "    coef_4 = fitted_model.coef_[0][3]\n",
    "    coef_5 = fitted_model.coef_[0][4]\n",
    "    coef_6 = fitted_model.coef_[0][5]\n",
    "    coef_7 = fitted_model.coef_[0][6]\n",
    "    coef_8 = fitted_model.coef_[0][7]\n",
    "    \n",
    "    #Keeping track of coefficients as we fit with different regularization strength\n",
    "    coef_arr_1 = np.append(coef_arr_1, coef_1)\n",
    "    coef_arr_2 = np.append(coef_arr_2, coef_2)\n",
    "    coef_arr_3 = np.append(coef_arr_3, coef_3)\n",
    "    coef_arr_4 = np.append(coef_arr_4, coef_4)\n",
    "    coef_arr_5 = np.append(coef_arr_5, coef_5)\n",
    "    coef_arr_6 = np.append(coef_arr_6, coef_6)\n",
    "    coef_arr_7 = np.append(coef_arr_7, coef_7)\n",
    "    coef_arr_8 = np.append(coef_arr_8, coef_8)"
   ]
  },
  {
   "cell_type": "code",
   "execution_count": 13,
   "metadata": {},
   "outputs": [
    {
     "data": {
      "text/plain": [
       "<matplotlib.legend.Legend at 0x1f652ab7be0>"
      ]
     },
     "execution_count": 13,
     "metadata": {},
     "output_type": "execute_result"
    },
    {
     "data": {
      "image/png": "[encoded data removed]",
      "text/plain": [
       "<Figure size 720x576 with 1 Axes>"
      ]
     },
     "metadata": {
      "needs_background": "light"
     },
     "output_type": "display_data"
    }
   ],
   "source": [
    "#Plotting the regulization path\n",
    "plt.figure(figsize = (10,8))\n",
    "\n",
    "plt.plot(np.log(1/reg_strength),coef_arr_1, label = X.columns[0])\n",
    "plt.plot(np.log(1/reg_strength), coef_arr_2, label = X.columns[1])\n",
    "plt.plot(np.log(1/reg_strength), coef_arr_3, label = X.columns[2])\n",
    "plt.plot(np.log(1/reg_strength), coef_arr_4, label = X.columns[3])\n",
    "plt.plot(np.log(1/reg_strength), coef_arr_5, label = X.columns[4])\n",
    "plt.plot(np.log(1/reg_strength), coef_arr_6, label = X.columns[5])\n",
    "plt.plot(np.log(1/reg_strength), coef_arr_7, label = X.columns[6])\n",
    "plt.plot(np.log(1/reg_strength), coef_arr_8, label = X.columns[7])\n",
    "\n",
    "plt.xlabel('Log($\\\\lambda$)')\n",
    "plt.ylabel('Coefficients')\n",
    "plt.title('Regularization path')\n",
    "plt.legend()"
   ]
  },
  {
   "cell_type": "markdown",
   "metadata": {},
   "source": [
    "Determine which coefficient is most strongly related to the outcome be examining which coefficient reaches 0 last.\n",
    "\n",
    "From the regularization path above we can see that \"Glucose\" is the most strongly related coefficient to the outcome."
   ]
  }
 ],
 "metadata": {
  "kernelspec": {
   "display_name": "Python 3",
   "language": "python",
   "name": "python3"
  },
  "language_info": {
   "codemirror_mode": {
    "name": "ipython",
    "version": 3
   },
   "file_extension": ".py",
   "mimetype": "text/x-python",
   "name": "python",
   "nbconvert_exporter": "python",
   "pygments_lexer": "ipython3",
   "version": "3.7.3"
  }
 },
 "nbformat": 4,
 "nbformat_minor": 4
}
