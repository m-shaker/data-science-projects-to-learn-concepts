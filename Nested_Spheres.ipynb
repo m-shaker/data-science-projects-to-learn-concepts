{
 "cells": [
  {
   "cell_type": "markdown",
   "metadata": {},
   "source": [
    "# Nested Spheres\n",
    "\n",
    "Simulation is an incredibly useful tool in data science.  We can use simulation to evaluate how algorithms perform against ground truth, and how algorithms compare to one another.\n",
    "\n",
    "In this project, you will be implementing and extending the nested spheres simulation study found in *Elements of Statistical Learning* page 339.  \n",
    "\n",
    "# Nested Spheres\n",
    "\n",
    "Consider a dataset which contains 10 features $X_1 \\,, X_2 \\,, \\cdots \\,, X_{10}$.  The features are standard independent Gaussian random variables.  That is to say\n",
    "\n",
    "$$ X_j \\sim \\operatorname{Normal}(0,1) \\quad \\forall j = 1 \\dots 10$$\n",
    "\n",
    "We are going to use these features to study a classification problem.  You will have to create the target variable, $Y$ by computing the following rule:\n",
    "\n",
    "$$ Y = \\begin{cases}  1 \\quad \\mbox{ if } \\sum_{j=1}^{10} X^2_j>9.34 \\\\ -1 \\quad  \\mbox{else} \\end{cases}$$\n",
    "\n",
    "# The Simulation Study\n",
    "\n",
    "Follow these steps to complete the project. \n",
    "\n",
    "## Steps:\n",
    "\n",
    "1. Generate a training data set of 2000 observations according to the description above.  Label each of these training examples according to the rule above.\n",
    "\n",
    "2. Train a bagged estimator, a random forrest with `max_features=1`, a random forest with `max_features=3`, and an additional model of your choice (you can increase max features again, or you can explore a boosted estimator).  Use 500 trees in your random forests and bagged estimator.\n",
    "\n",
    "3.  Generate a testing data set of 10,000 observations according to the description above.  Label each of these training examples according to the rule above.\n",
    "\n",
    "4.  Use each model to predict on the testing data.  Record the testing error rate (that is 1 - accuracy).\n",
    "\n",
    "\n",
    "Repeat these steps 50 times.  Plot the error rates as a box plot by model to complete the project.\n",
    "\n"
   ]
  },
  {
   "cell_type": "code",
   "execution_count": 1,
   "metadata": {},
   "outputs": [
    {
     "name": "stderr",
     "output_type": "stream",
     "text": [
      "100%|██████████| 50/50 [20:16<00:00, 24.28s/it]\n"
     ]
    }
   ],
   "source": [
    "import numpy as np\n",
    "import matplotlib.pyplot as plt\n",
    "import matplotlib as mpl\n",
    "from sklearn.tree import DecisionTreeClassifier\n",
    "from sklearn.ensemble import BaggingClassifier, RandomForestClassifier\n",
    "from sklearn.metrics import accuracy_score\n",
    "import pandas as pd\n",
    "from tqdm import tqdm\n",
    "\n",
    "\n",
    "def generate_data(N):\n",
    "    \n",
    "    '''\n",
    "    This function creates the data according to the rule above.\n",
    "    \n",
    "    Inputs:\n",
    "    N - integer.  The number of samples to draw.\n",
    "    '''\n",
    "    # Some logic to prevent some errors\n",
    "\n",
    "    # Generate the features to learn from.\n",
    "    # Features are iid standard gaussian, so draw from a multivariable standar normal in which the \n",
    "    # covariance matrix is the identity\n",
    "    \n",
    "    X = np.random.normal(size = (N, 10))\n",
    "\n",
    "\n",
    "    # Calculate the sum to determine if y=0 or y=1\n",
    "    \n",
    "    radius_squared  = np.linalg.norm(X, 2, axis = 1)**2\n",
    "    \n",
    "    y = radius_squared>9.34\n",
    "    \n",
    "    y = y.astype(int)\n",
    "\n",
    "    return X,y\n",
    "\n",
    "# Perform the simulation below.  Initialize somewhere to store the errors\n",
    "\n",
    "number_of_simulations = 50\n",
    "\n",
    "err = np.zeros(number_of_simulations)\n",
    "err_rf1 = np.zeros(number_of_simulations)\n",
    "\n",
    "for i in tqdm(range(number_of_simulations)):\n",
    "\n",
    "\n",
    "    # Step 1: \n",
    "    # Generate a training data set of 2000 observations according to the description above.  \n",
    "    # Label each of these training examples according to the rule above.\n",
    "\n",
    "    Xtrain, ytrain = generate_data(2000)\n",
    "    \n",
    "    # Instantiate Models\n",
    "    \n",
    "    bag = BaggingClassifier( DecisionTreeClassifier(), n_estimators=500 )\n",
    "    rf1 = RandomForestClassifier(n_estimators=500, max_features=1)\n",
    "\n",
    "    \n",
    "    # Step 2: Train a bagged estimator\n",
    "    # Use 500 trees in your random forests and bagged estimator.\n",
    "    \n",
    "    bag.fit(Xtrain, ytrain)\n",
    "    rf1.fit(Xtrain, ytrain)\n",
    "\n",
    "    \n",
    "    #Step 3:\n",
    "    # Generate a testing data set of 10,000 observations according to the description above.  \n",
    "    # Label each of these training examples according to the rule above.\n",
    "    \n",
    "    Xtest, ytest = generate_data(10_000)\n",
    "\n",
    "\n",
    "    # Step 4:\n",
    "    # Use each model to predict on the testing data.  \n",
    "\n",
    "    ypred = bag.predict(Xtest)\n",
    "    ypred_rf1 = rf1.predict(Xtest)\n",
    "    \n",
    "    # Record the testing error rate (that is 1 - accuracy).\n",
    "    \n",
    "    err[i] = 1 - accuracy_score(ytest, ypred)\n",
    "    err_rf1[i] = 1- accuracy_score(ytest, ypred_rf1)"
   ]
  },
  {
   "cell_type": "code",
   "execution_count": 2,
   "metadata": {},
   "outputs": [
    {
     "data": {
      "text/plain": [
       "<matplotlib.axes._subplots.AxesSubplot at 0x23b471edf28>"
      ]
     },
     "execution_count": 2,
     "metadata": {},
     "output_type": "execute_result"
    },
    {
     "data": {
      "image/png": "[encoded data removed]",
      "text/plain": [
       "<Figure size 432x288 with 1 Axes>"
      ]
     },
     "metadata": {
      "needs_background": "light"
     },
     "output_type": "display_data"
    }
   ],
   "source": [
    "#Plot the error rates as a box plot by model with max_features=1\n",
    "estimators = {'bag': err, 'rf1': err_rf1}\n",
    "\n",
    "df = pd.DataFrame(estimators)\n",
    "\n",
    "df\n",
    "\n",
    "df.boxplot()"
   ]
  },
  {
   "cell_type": "code",
   "execution_count": 3,
   "metadata": {},
   "outputs": [
    {
     "name": "stderr",
     "output_type": "stream",
     "text": [
      "100%|██████████| 50/50 [21:38<00:00, 27.50s/it]\n"
     ]
    }
   ],
   "source": [
    "for i in tqdm(range(number_of_simulations)):\n",
    "\n",
    "\n",
    "    # Step 1: \n",
    "    # Generate a training data set of 2000 observations according to the description above.  \n",
    "    # Label each of these training examples according to the rule above.\n",
    "\n",
    "    Xtrain, ytrain = generate_data(2000)\n",
    "    \n",
    "    # Instantiate Models\n",
    "    \n",
    "    bag = BaggingClassifier( DecisionTreeClassifier(), n_estimators=500 )\n",
    "    rf1 = RandomForestClassifier(n_estimators=500, max_features=3)\n",
    "\n",
    "    \n",
    "    # Step 2: Train a bagged estimator\n",
    "    # Use 500 trees in your random forests and bagged estimator.\n",
    "    \n",
    "    bag.fit(Xtrain, ytrain)\n",
    "    rf1.fit(Xtrain, ytrain)\n",
    "\n",
    "    \n",
    "    #Step 3:\n",
    "    # Generate a testing data set of 10,000 observations according to the description above.  \n",
    "    # Label each of these training examples according to the rule above.\n",
    "    \n",
    "    Xtest, ytest = generate_data(10_000)\n",
    "\n",
    "\n",
    "    # Step 4:\n",
    "    # Use each model to predict on the testing data.  \n",
    "\n",
    "    ypred = bag.predict(Xtest)\n",
    "    ypred_rf1 = rf1.predict(Xtest)\n",
    "    \n",
    "    # Record the testing error rate (that is 1 - accuracy).\n",
    "    \n",
    "    err[i] = 1 - accuracy_score(ytest, ypred)\n",
    "    err_rf1[i] = 1- accuracy_score(ytest, ypred_rf1)"
   ]
  },
  {
   "cell_type": "code",
   "execution_count": 4,
   "metadata": {},
   "outputs": [
    {
     "data": {
      "text/plain": [
       "<matplotlib.axes._subplots.AxesSubplot at 0x23b4f7ad6d8>"
      ]
     },
     "execution_count": 4,
     "metadata": {},
     "output_type": "execute_result"
    },
    {
     "data": {
      "image/png": "[encoded data removed]",
      "text/plain": [
       "<Figure size 432x288 with 1 Axes>"
      ]
     },
     "metadata": {
      "needs_background": "light"
     },
     "output_type": "display_data"
    }
   ],
   "source": [
    "#Plot the error rates as a box plot by model with max_features=3\n",
    "estimators = {'bag': err, 'rf1': err_rf1}\n",
    "\n",
    "df = pd.DataFrame(estimators)\n",
    "\n",
    "df\n",
    "\n",
    "df.boxplot()"
   ]
  },
  {
   "cell_type": "code",
   "execution_count": 5,
   "metadata": {},
   "outputs": [
    {
     "name": "stderr",
     "output_type": "stream",
     "text": [
      "100%|██████████| 50/50 [27:18<00:00, 33.04s/it]\n"
     ]
    }
   ],
   "source": [
    "for i in tqdm(range(number_of_simulations)):\n",
    "\n",
    "\n",
    "    # Step 1: \n",
    "    # Generate a training data set of 2000 observations according to the description above.  \n",
    "    # Label each of these training examples according to the rule above.\n",
    "\n",
    "    Xtrain, ytrain = generate_data(2000)\n",
    "    \n",
    "    # Instantiate Models\n",
    "    \n",
    "    bag = BaggingClassifier( DecisionTreeClassifier(), n_estimators=500 )\n",
    "    rf1 = RandomForestClassifier(n_estimators=500, max_features=6)\n",
    "\n",
    "    \n",
    "    # Step 2: Train a bagged estimator\n",
    "    # Use 500 trees in your random forests and bagged estimator.\n",
    "    \n",
    "    bag.fit(Xtrain, ytrain)\n",
    "    rf1.fit(Xtrain, ytrain)\n",
    "\n",
    "    \n",
    "    #Step 3:\n",
    "    # Generate a testing data set of 10,000 observations according to the description above.  \n",
    "    # Label each of these training examples according to the rule above.\n",
    "    \n",
    "    Xtest, ytest = generate_data(10_000)\n",
    "\n",
    "\n",
    "    # Step 4:\n",
    "    # Use each model to predict on the testing data.  \n",
    "\n",
    "    ypred = bag.predict(Xtest)\n",
    "    ypred_rf1 = rf1.predict(Xtest)\n",
    "    \n",
    "    # Record the testing error rate (that is 1 - accuracy).\n",
    "    \n",
    "    err[i] = 1 - accuracy_score(ytest, ypred)\n",
    "    err_rf1[i] = 1- accuracy_score(ytest, ypred_rf1)"
   ]
  },
  {
   "cell_type": "code",
   "execution_count": 6,
   "metadata": {},
   "outputs": [
    {
     "data": {
      "text/plain": [
       "<matplotlib.axes._subplots.AxesSubplot at 0x23b4f860f60>"
      ]
     },
     "execution_count": 6,
     "metadata": {},
     "output_type": "execute_result"
    },
    {
     "data": {
      "image/png": "[encoded data removed]",
      "text/plain": [
       "<Figure size 432x288 with 1 Axes>"
      ]
     },
     "metadata": {
      "needs_background": "light"
     },
     "output_type": "display_data"
    }
   ],
   "source": [
    "#Plot the error rates as a box plot by model with max_features=6\n",
    "estimators = {'bag': err, 'rf1': err_rf1}\n",
    "\n",
    "df = pd.DataFrame(estimators)\n",
    "\n",
    "df\n",
    "\n",
    "df.boxplot()"
   ]
  }
 ],
 "metadata": {
  "kernelspec": {
   "display_name": "Python 3",
   "language": "python",
   "name": "python3"
  },
  "language_info": {
   "codemirror_mode": {
    "name": "ipython",
    "version": 3
   },
   "file_extension": ".py",
   "mimetype": "text/x-python",
   "name": "python",
   "nbconvert_exporter": "python",
   "pygments_lexer": "ipython3",
   "version": "3.7.3"
  }
 },
 "nbformat": 4,
 "nbformat_minor": 4
}
