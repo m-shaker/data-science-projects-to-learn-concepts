{
 "cells": [
  {
   "cell_type": "markdown",
   "metadata": {},
   "source": [
    "# Supervised learning, Linear models, and Loss functions\n",
    "\n",
    "\n",
    "\n",
    "## Data set \n",
    "\n",
    "In this project, we'll be working with some data on possums.  It's a relatively small data set, but it's a good size to get you started with ordinary least squares (OLS) and least absolute deviation (LAD), and to gain experience with supervised learning in general.  You're going to write your own methods to fit both OLS and LAD models, and then at the end compare them to the models produced by the `statsmodels` package.\n",
    "\n",
    "For this project, we will examine some data representing possums in Australia and New Guinea.\n",
    "The code below loads in a pandas data frame with 46 observations on the following 6 variables:\n",
    "\n",
    "sex: Sex, either m (male) or f (female).  \n",
    "age: Age in years.  \n",
    "headL: Head length, in mm.  \n",
    "skullW: Skull width, in mm.  \n",
    "totalL: Total length, in cm.  \n",
    "tailL: Tail length, in cm."
   ]
  },
  {
   "cell_type": "markdown",
   "metadata": {},
   "source": [
    "## Task 1: OLS estimation and plotting\n"
   ]
  },
  {
   "cell_type": "code",
   "execution_count": 677,
   "metadata": {},
   "outputs": [],
   "source": [
    "#It's dangerous to go alone.  Take these!\n",
    "import matplotlib.pyplot as plt \n",
    "import numpy as np\n",
    "import pandas as pd\n",
    "import scipy.stats as ss \n",
    "import scipy.optimize as so\n",
    "import statsmodels.api as sm\n",
    "import statsmodels.formula.api as smf\n",
    "\n",
    "#Read in the data you will need for this assignment\n",
    "possum_data=pd.read_csv('possum.csv')"
   ]
  },
  {
   "cell_type": "markdown",
   "metadata": {},
   "source": [
    "### Question 1:\n",
    "\n",
    "Investigate the relationship between the possum's age and it's tail length by plotting a scatter plot of the `age` and `tailL` columns. Label your plot and your axes. You might want to add an `alpha` in case some data are overlapping.  Perform any other exploratory analysis you think might be useful (optional.)"
   ]
  },
  {
   "cell_type": "code",
   "execution_count": 3575,
   "metadata": {},
   "outputs": [
    {
     "data": {
      "text/plain": [
       "Text(0.5, 1.0, 'A scatter plot of possum tail length versus age')"
      ]
     },
     "execution_count": 3575,
     "metadata": {},
     "output_type": "execute_result"
    },
    {
     "data": {
      "image/png": "[encoded data removed]",
      "text/plain": [
       "<Figure size 432x288 with 1 Axes>"
      ]
     },
     "metadata": {},
     "output_type": "display_data"
    }
   ],
   "source": [
    "#Changing the plot style to ggplot.\n",
    "plt.style.use('ggplot')  \n",
    "\n",
    "#Creating a scatter plot of the possum age and tail length columns \n",
    "fig, ax = plt.subplots()\n",
    "age_tailL_scatter_plot = ax.scatter(\n",
    "possum_data['age'], #The age of the possum on the x-axis\n",
    "possum_data['tailL'], #The tail of the possum on the y-axis\n",
    "c = 'red',           #Changing the color of the dots to red\n",
    "alpha = 0.4         #Adding alpha to get a better visual of overlapping data points. \n",
    ")\n",
    "\n",
    "#Labelling the x-axis of the plot\n",
    "ax.set_xlabel(\"Possum age in years\")\n",
    "\n",
    "#Labelling the y-axis of the plot \n",
    "ax.set_ylabel(\"Possum tail length in Centimeter\")\n",
    "\n",
    "#Adding a title to the plot \n",
    "ax.set_title(\"A scatter plot of possum tail length versus age\")\n"
   ]
  },
  {
   "cell_type": "markdown",
   "metadata": {},
   "source": [
    "### Question 2:\n",
    "\n",
    "Recall that the linear model, we obtain predictions by computing \n",
    "\n",
    "$$ \\mathbf{\\hat{y}} = \\mathbf{X} \\beta $$\n",
    "\n",
    "Here, $\\mathbf{X}$ is a design matrix, $\\beta$ are coefficients, and $\\mathbf{\\hat{y}}$ are fitted/estimates/predicted values. Define a model-prediction function `yhat = linearModelPredict(beta,X)` that takes a parameter vector `beta` and a matrix `X` of inputs, and produces a vector `yhat` containing the predicted (fitted) values that correspond to each row of the input matrix. Assume that `beta` has $p$ rows and $1$ column, and that `X` has $n$ rows and $p$ columns.\n",
    "\n",
    "Hint: As of Python 3.5, the `@` symbol can be used for matrix multiplication."
   ]
  },
  {
   "cell_type": "code",
   "execution_count": 3557,
   "metadata": {},
   "outputs": [],
   "source": [
    "def linearModelPredict(b,X):\n",
    "    \n",
    "    #Changing the shape of X and b for matrix multiplication.  \n",
    "    X = X.reshape(-1,1)\n",
    "    b = b.reshape(-1,1)\n",
    "    \n",
    "    #Adding ones as the first columns of the matrix X\n",
    "    X = np.insert(X,0,1,axis=1)\n",
    "    \n",
    "    #Matrix multiplication\n",
    "    yb = X @ b\n",
    "\n",
    "    return yb "
   ]
  },
  {
   "cell_type": "markdown",
   "metadata": {},
   "source": [
    "### Question 3:\n",
    "\n",
    "Write a function `linearModelLossRSS` which computes the loss function for an OLS model parameterized by $\\beta$, as well as the gradient of the loss. Define a squared error loss function `(loss, gradient) = linearModelLossRSS(beta,X,y)` that takes a parameter vector `beta`, a matrix `X` of inputs, and a vector `y` of observed values, and produces the sum of squared errors between the observed and predicted (fitted) values, along with the gradient of the loss. Assume that `theta` has $p$ rows and $1$ column, and that `X` has $n$ rows and $p$ column, and that `y` has `n` rows and `1` column."
   ]
  },
  {
   "cell_type": "code",
   "execution_count": 3558,
   "metadata": {},
   "outputs": [],
   "source": [
    "def linearModelLossRSS(b,X,y):\n",
    "  \n",
    "    #Storing predicted y values. \n",
    "    predicted_y_values = linearModelPredict(b,X)\n",
    "\n",
    "    #Changing the shape of predicted_y_values to perform subtraction from y. \n",
    "    predicted_y_values = predicted_y_values.reshape(1,-1)\n",
    "        \n",
    "    #Computing the residuals \n",
    "    residuals = y - predicted_y_values \n",
    "    \n",
    "    #Computing the residuals sum of squares \n",
    "    residual_sum_of_squares = np.sum(residuals**2)\n",
    "    \n",
    "    #Computing the gradient \n",
    "    #First we will make a few changes to the shape of X, y and b \n",
    "    X = X.reshape(-1,1)\n",
    "    b = b.reshape(-1,1)\n",
    "    y = y.reshape(-1,1)\n",
    "    X = np.insert(X,0,1,axis=1)\n",
    "\n",
    "    #Now we will compute the jacobian/gradient.\n",
    "    gradient = (-2)*(X.T @ y) + 2*(X.T) @ X @ b\n",
    "    \n",
    "    #Changing the storage format of the gradient \n",
    "    gradient = np.concatenate(gradient)\n",
    "    \n",
    "    return (residual_sum_of_squares, gradient) "
   ]
  },
  {
   "cell_type": "markdown",
   "metadata": {},
   "source": [
    "### Question 4: \n",
    "\n",
    "#### Part 1\n",
    "\n",
    "Now that you've implemented a loss function in question 3, it is now time to minimize it to fit the data!\n",
    "\n",
    "Write a function `linearModelFit` to fit a linear model.  The function should take as its first argument an 2d-array `X` which houses the input data with one example per row, as its second argument a 1d-array `y` of outcomes with one example per row, and as its third argument a function `lossfcn` which returns as a tuple the value of the loss, as well as the gradient of the loss.\n",
    "\n",
    "Use this function to estimate the parameters that describe the relationship between a possum's age and its tail length, i.e., $\\widehat{\\mathit{TailLength}} = \\beta_0 + \\beta_1 \\mathit{age}$."
   ]
  },
  {
   "cell_type": "code",
   "execution_count": 3559,
   "metadata": {},
   "outputs": [],
   "source": [
    "def linearModelFit(X,y,lossfcn = linearModelLossRSS): \n",
    "    \n",
    "    #Starting values\n",
    "    bstart = np.array([[0,0]])\n",
    "    \n",
    "    #Computing the result\n",
    "    Result = so.minimize(linearModelLossRSS, bstart, args =(X,y), jac=True)\n",
    "    \n",
    "    return Result"
   ]
  },
  {
   "cell_type": "code",
   "execution_count": 3560,
   "metadata": {},
   "outputs": [],
   "source": [
    "#First we will extract some data from the data frame possum_data\n",
    "possum_age = np.array([possum_data['age']])\n",
    "possum_tail_length = np.array([possum_data['tailL']])\n",
    "\n",
    "#Using the function linearModelFit to estimate the parameters\n",
    "parameters = linearModelFit(possum_age,possum_tail_length).x\n",
    "\n",
    "#Computing the predicted possum tail length\n",
    "predicted_tail_length = linearModelPredict(parameters,possum_age)\n",
    "\n",
    "#Changing the format of predicted_tial_length to be able to plot it\n",
    "predicted_tail_length = np.concatenate(predicted_tail_length)\n",
    "predicted_tail_length = list(predicted_tail_length)\n",
    "\n",
    "#Changing the format of possum_age to be able to plot it \n",
    "possum_age = np.concatenate(possum_age)\n",
    "possum_age = list(possum_age)"
   ]
  },
  {
   "cell_type": "markdown",
   "metadata": {},
   "source": [
    "#### Part 2\n",
    "\n",
    "Using your solution, plot the data points and the fitted line below. Label your plot and your axes."
   ]
  },
  {
   "cell_type": "code",
   "execution_count": 3587,
   "metadata": {},
   "outputs": [
    {
     "data": {
      "text/plain": [
       "[<matplotlib.lines.Line2D at 0x1548a46cf98>]"
      ]
     },
     "execution_count": 3587,
     "metadata": {},
     "output_type": "execute_result"
    },
    {
     "data": {
      "image/png": "[encoded data removed]",
      "text/plain": [
       "<Figure size 432x288 with 1 Axes>"
      ]
     },
     "metadata": {},
     "output_type": "display_data"
    }
   ],
   "source": [
    "#Creating a scatter plot of the possum age and tail length columns \n",
    "fig, ax = plt.subplots()\n",
    "age_tailL_scatter_plot = ax.scatter(\n",
    "possum_data['age'], #The age of the possum on the x-axis.\n",
    "possum_data['tailL'], #The tail length of the possum on the y-axis. \n",
    "c = 'red',           #Changing the color of the dots to red.\n",
    "alpha = 0.4         #Adding alpha to get a better visual of overlapping data points. \n",
    ")\n",
    "\n",
    "#Labelling the x-axis of the plot\n",
    "ax.set_xlabel(\"Possum age in years\")\n",
    "\n",
    "#Labelling the y-axis of the plot \n",
    "ax.set_ylabel(\"Possum tail length in Centimeter\")\n",
    "\n",
    "#Adding a title for the plot \n",
    "ax.set_title(\"A scatter plot of possum tail length versus age with the OLS model fit\")\n",
    "\n",
    "#Plotting the fitted line of possum_age and predicted_tail_length from the OLS estimation. \n",
    "ax.plot(possum_age,predicted_tail_length)"
   ]
  },
  {
   "cell_type": "markdown",
   "metadata": {},
   "source": [
    "# Task 2: Least Absolute Deviation Loss\n"
   ]
  },
  {
   "cell_type": "markdown",
   "metadata": {},
   "source": [
    "### Question 1: \n",
    "\n",
    "In the previous section, we worked with the squared loss.  Now, we'll implement a linear model with least absolute deviation loss.\n",
    "\n",
    "Write a function `linearModelLossLAD` which computes the least absolute deviation loss function for a linear model  parameterized by $\\beta$, as well as the gradient of the loss.  The function should take as its first argument a 1d-array `beta` of coefficients for the linear model, as its second argument a 2d-array `X` of data, and as its third argument a 1d-array `y` of observed outcomes.\n"
   ]
  },
  {
   "cell_type": "code",
   "execution_count": 3588,
   "metadata": {},
   "outputs": [],
   "source": [
    "def linearModelLossLAD(b,X,y):  \n",
    "    \n",
    "    #Storing predicted y values. \n",
    "    predicted_y_values = linearModelPredict(b,X)\n",
    "\n",
    "    #Changing the shape of predicted_y_values to perform subtraction from y. \n",
    "    predicted_y_values = predicted_y_values.reshape(1,-1)\n",
    "        \n",
    "    #Computing the sum of least absolute deviations\n",
    "    abs_dev = y - predicted_y_values \n",
    "    sum_abs_dev = np.sum(np.absolute(abs_dev))\n",
    "    \n",
    "    #Computing the gradient \n",
    "    #First we will make a few changes to the shape of X, y and b \n",
    "    X = X.reshape(-1,1)\n",
    "    b = b.reshape(-1,1)\n",
    "    y = y.reshape(-1,1)\n",
    "    X = np.insert(X,0,1,axis=1)\n",
    "\n",
    "    #Now we will compute the jacobian/gradient.\n",
    "    grad = (-2)*(X.T @ y) + 2*(X.T) @ X @ b\n",
    "    \n",
    "    #Changing the storage format of the gradient \n",
    "    grad = np.concatenate(grad)\n",
    "\n",
    "    return (sum_abs_dev,grad)"
   ]
  },
  {
   "cell_type": "markdown",
   "metadata": {},
   "source": [
    "### Question 2\n",
    "\n",
    "Use `linearModelLossLAD` to fit a linear model with least absolute deviation loss.  Report the coefficients of the model, the R squared, and plot the fit."
   ]
  },
  {
   "cell_type": "code",
   "execution_count": 3595,
   "metadata": {},
   "outputs": [],
   "source": [
    "def linearModelLADFit(X,y,lossfcn = linearModelLossLAD): \n",
    "    \n",
    "    #Starting values\n",
    "    bstart = np.array([[0,0]])  \n",
    "    \n",
    "    Result = so.minimize(linearModelLossLAD, bstart, args = (X,y), jac=True)\n",
    "    \n",
    "    return Result"
   ]
  },
  {
   "cell_type": "code",
   "execution_count": 3617,
   "metadata": {},
   "outputs": [
    {
     "name": "stdout",
     "output_type": "stream",
     "text": [
      "The coefficients of the LAD model are [33.08417435  0.73646195]\n",
      "The value of R Squared is 0.41964150947571355\n"
     ]
    }
   ],
   "source": [
    "#We will use possum_age and predicted_tail_length to report coefficients of the LAD model and the R squared\n",
    "possum_age_LAD = np.array([possum_data['age']])\n",
    "possum_tail_length_LAD = np.array([possum_data['tailL']])\n",
    "\n",
    "#Reporting the coefficients of the LAD model. \n",
    "coefficients = linearModelLADFit(possum_age_LAD, possum_tail_length_LAD).x\n",
    "print(\"The coefficients of the LAD model are\", coefficients)\n",
    "\n",
    "#Finding the predictions of the possum tail length using the LAD model coefficients \n",
    "predicted_tail_length_LAD = linearModelPredict(coefficients,possum_age_LAD)\n",
    "\n",
    "#Finding R Squared \n",
    "residual_for_LAD = predicted_tail_length_LAD - possum_tail_length_LAD\n",
    "rss_LAD = np.sum(residual_for_LAD**2)\n",
    "mean_of_tail_length = np.mean(possum_tail_length_LAD)\n",
    "difference_between_y_and_mean = possum_age_LAD - mean_of_tail_length \n",
    "tss_LAD = np.sum(difference_between_y_and_mean**2)\n",
    "r_squared = 1 - (rss_LAD/tss_LAD)\n",
    "print (\"The value of R Squared is\", r_squared)\n",
    "\n",
    "#Changing the format of predicted_tial_length_lAD to be able to plot it\n",
    "predicted_tail_length_LAD = np.concatenate(predicted_tail_length_LAD)\n",
    "predicted_tail_length_LAD = list(predicted_tail_length_LAD)\n",
    "\n",
    "#Changing the format of possum_age_LAD to be able to plot it \n",
    "possum_age_LAD = np.concatenate(possum_age_LAD)\n",
    "possum_age_LAD = list(possum_age_LAD)"
   ]
  },
  {
   "cell_type": "markdown",
   "metadata": {},
   "source": [
    "Plot the fit below"
   ]
  },
  {
   "cell_type": "code",
   "execution_count": 3618,
   "metadata": {},
   "outputs": [
    {
     "data": {
      "text/plain": [
       "[<matplotlib.lines.Line2D at 0x1548b4a5a58>]"
      ]
     },
     "execution_count": 3618,
     "metadata": {},
     "output_type": "execute_result"
    },
    {
     "data": {
      "image/png": "[encoded data removed]",
      "text/plain": [
       "<Figure size 432x288 with 1 Axes>"
      ]
     },
     "metadata": {},
     "output_type": "display_data"
    }
   ],
   "source": [
    "#Creating a scatter plot of the possum age and tail length columns \n",
    "fig, ax = plt.subplots()\n",
    "age_tailL_scatter_plot = ax.scatter(\n",
    "possum_data['age'], #The age of the possum on the x-axis\n",
    "possum_data['tailL'], #The tail length of the possum on the y-axis \n",
    "c = 'blue',           #Changing the color of the dots to red\n",
    "alpha = 0.4         #Adding alpha to get a better visual of overlapping data points. \n",
    ")\n",
    "\n",
    "#Labelling the x-axis of the plot\n",
    "ax.set_xlabel(\"Possum age in years\")\n",
    "\n",
    "#Labelling the y-axis of the plot \n",
    "ax.set_ylabel(\"Possum tail length in Centimeter\")\n",
    "\n",
    "#Adding a title for the plot \n",
    "ax.set_title(\"A scatter plot of possum tail length versus age with the LAD model fit\")\n",
    "\n",
    "#Plotting the fitted line of possum age and predicted tail length from the OLS estimation. \n",
    "ax.plot(possum_age_LAD,predicted_tail_length_LAD)"
   ]
  },
  {
   "cell_type": "markdown",
   "metadata": {},
   "source": [
    "# Task 3: Comparing With `Statsmodels`\n",
    "\n",
    "\n",
    "Fit both an OLS and a LAD model with `statsmodels`. Compare coefficient estimates, R squared values, and plot the fits. Discuss any differences or similarities between your implementation and `statsmodels`, and discuss any differences between the OLS model and the LAD model."
   ]
  },
  {
   "cell_type": "code",
   "execution_count": 3626,
   "metadata": {
    "scrolled": true
   },
   "outputs": [
    {
     "data": {
      "text/html": [
       "<table class=\"simpletable\">\n",
       "<caption>OLS Regression Results</caption>\n",
       "<tr>\n",
       "  <th>Dep. Variable:</th>          <td>tailL</td>      <th>  R-squared (uncentered):</th>      <td>   0.815</td>\n",
       "</tr>\n",
       "<tr>\n",
       "  <th>Model:</th>                   <td>OLS</td>       <th>  Adj. R-squared (uncentered):</th> <td>   0.811</td>\n",
       "</tr>\n",
       "<tr>\n",
       "  <th>Method:</th>             <td>Least Squares</td>  <th>  F-statistic:       </th>          <td>   198.1</td>\n",
       "</tr>\n",
       "<tr>\n",
       "  <th>Date:</th>             <td>Tue, 17 Sep 2019</td> <th>  Prob (F-statistic):</th>          <td>4.27e-18</td>\n",
       "</tr>\n",
       "<tr>\n",
       "  <th>Time:</th>                 <td>10:57:15</td>     <th>  Log-Likelihood:    </th>          <td> -191.92</td>\n",
       "</tr>\n",
       "<tr>\n",
       "  <th>No. Observations:</th>      <td>    46</td>      <th>  AIC:               </th>          <td>   385.8</td>\n",
       "</tr>\n",
       "<tr>\n",
       "  <th>Df Residuals:</th>          <td>    45</td>      <th>  BIC:               </th>          <td>   387.7</td>\n",
       "</tr>\n",
       "<tr>\n",
       "  <th>Df Model:</th>              <td>     1</td>      <th>                     </th>              <td> </td>   \n",
       "</tr>\n",
       "<tr>\n",
       "  <th>Covariance Type:</th>      <td>nonrobust</td>    <th>                     </th>              <td> </td>   \n",
       "</tr>\n",
       "</table>\n",
       "<table class=\"simpletable\">\n",
       "<tr>\n",
       "   <td></td>      <th>coef</th>     <th>std err</th>      <th>t</th>      <th>P>|t|</th>  <th>[0.025</th>    <th>0.975]</th>  \n",
       "</tr>\n",
       "<tr>\n",
       "  <th>age</th> <td>    7.3801</td> <td>    0.524</td> <td>   14.076</td> <td> 0.000</td> <td>    6.324</td> <td>    8.436</td>\n",
       "</tr>\n",
       "</table>\n",
       "<table class=\"simpletable\">\n",
       "<tr>\n",
       "  <th>Omnibus:</th>       <td> 3.422</td> <th>  Durbin-Watson:     </th> <td>   1.214</td>\n",
       "</tr>\n",
       "<tr>\n",
       "  <th>Prob(Omnibus):</th> <td> 0.181</td> <th>  Jarque-Bera (JB):  </th> <td>   3.226</td>\n",
       "</tr>\n",
       "<tr>\n",
       "  <th>Skew:</th>          <td>-0.597</td> <th>  Prob(JB):          </th> <td>   0.199</td>\n",
       "</tr>\n",
       "<tr>\n",
       "  <th>Kurtosis:</th>      <td> 2.492</td> <th>  Cond. No.          </th> <td>    1.00</td>\n",
       "</tr>\n",
       "</table><br/><br/>Warnings:<br/>[1] Standard Errors assume that the covariance matrix of the errors is correctly specified."
      ],
      "text/plain": [
       "<class 'statsmodels.iolib.summary.Summary'>\n",
       "\"\"\"\n",
       "                                 OLS Regression Results                                \n",
       "=======================================================================================\n",
       "Dep. Variable:                  tailL   R-squared (uncentered):                   0.815\n",
       "Model:                            OLS   Adj. R-squared (uncentered):              0.811\n",
       "Method:                 Least Squares   F-statistic:                              198.1\n",
       "Date:                Tue, 17 Sep 2019   Prob (F-statistic):                    4.27e-18\n",
       "Time:                        10:57:15   Log-Likelihood:                         -191.92\n",
       "No. Observations:                  46   AIC:                                      385.8\n",
       "Df Residuals:                      45   BIC:                                      387.7\n",
       "Df Model:                           1                                                  \n",
       "Covariance Type:            nonrobust                                                  \n",
       "==============================================================================\n",
       "                 coef    std err          t      P>|t|      [0.025      0.975]\n",
       "------------------------------------------------------------------------------\n",
       "age            7.3801      0.524     14.076      0.000       6.324       8.436\n",
       "==============================================================================\n",
       "Omnibus:                        3.422   Durbin-Watson:                   1.214\n",
       "Prob(Omnibus):                  0.181   Jarque-Bera (JB):                3.226\n",
       "Skew:                          -0.597   Prob(JB):                        0.199\n",
       "Kurtosis:                       2.492   Cond. No.                         1.00\n",
       "==============================================================================\n",
       "\n",
       "Warnings:\n",
       "[1] Standard Errors assume that the covariance matrix of the errors is correctly specified.\n",
       "\"\"\""
      ]
     },
     "execution_count": 3626,
     "metadata": {},
     "output_type": "execute_result"
    }
   ],
   "source": [
    "#Fitting the OLS model\n",
    "OLS_model = sm.OLS(possum_data['tailL'],possum_data['age']).fit()\n",
    "\n",
    "#Getting the predicted values of the OLS model\n",
    "predicted_values_of_OLS_model = OLS_model.predict()\n",
    "\n",
    "#Fitting the LAD model, using the quantile regression since the LAD model is special case of the quantile regression \n",
    "#in statsmodels when q=0.5 according to the documentation\n",
    "LAD_model = smf.quantreg('tailL ~ age', possum_data).fit(q=0.5)\n",
    "\n",
    "#Getting the predicted values of the LAD model\n",
    "predicted_values_of_LAD_model = LAD_model.predict()\n",
    "\n",
    "#Printing models summary\n",
    "LAD_model.summary()\n",
    "OLS_model.summary()"
   ]
  },
  {
   "cell_type": "code",
   "execution_count": 3628,
   "metadata": {},
   "outputs": [
    {
     "data": {
      "text/plain": [
       "[<matplotlib.lines.Line2D at 0x1548a1e9da0>]"
      ]
     },
     "execution_count": 3628,
     "metadata": {},
     "output_type": "execute_result"
    },
    {
     "data": {
      "image/png": "[encoded data removed]",
      "text/plain": [
       "<Figure size 432x288 with 1 Axes>"
      ]
     },
     "metadata": {},
     "output_type": "display_data"
    }
   ],
   "source": [
    "#Plotting \n",
    "\n",
    "#Creating a scatter plot of the possum age and tail length columns \n",
    "fig, ax = plt.subplots()\n",
    "age_tailL_scatter_plot = ax.scatter(\n",
    "possum_data['age'], #The age of the possum on the x-axis\n",
    "possum_data['tailL'], #The tail length of the possum on the y-axis \n",
    "c = 'orange',           #Changing the color of the dots to red\n",
    "alpha = 0.4         #Adding alpha to get a better visual of overlapping data points\n",
    ")\n",
    "\n",
    "#Labelling the x-axis of the plot\n",
    "ax.set_xlabel(\"Possum age in years\")\n",
    "\n",
    "#Labelling the y-axis of the plot \n",
    "ax.set_ylabel(\"Possum tail length in Centimeter\")\n",
    "\n",
    "#Adding a title for the plot \n",
    "ax.set_title(\"A scatter plot of possum tail length versus age with the LAD and OLS model fit using Statsmodels\")\n",
    "\n",
    "#Plotting the OLS fit line \n",
    "ax.plot(possum_data['age'],predicted_values_of_OLS_model)\n",
    "\n",
    "#Plotting the LAD fit line\n",
    "ax.plot(possum_data['age'],predicted_values_of_LAD_model)"
   ]
  },
  {
   "cell_type": "code",
   "execution_count": null,
   "metadata": {},
   "outputs": [],
   "source": [
    "Discuss differences below."
   ]
  },
  {
   "cell_type": "markdown",
   "metadata": {},
   "source": [
    "As shown in the graph above the OLS model fit line is much steeper than the LAD model fit line. This is because the fit line of the ordinary least square is more affected by the outliers in the dataset. The least absolute deviation makes better estimates when there are outliers in the data. The ordinary least square method estimates get strongly affected by outliers leading the model to give predictions that are not as accurate as what the least deviation model would give. \n",
    "\n",
    "In the end, It all comes down to the set of data and the problem we are trying to solve. If a given data set contains outliers but they don't need to be given greater weight than the other data points, then the least absolute deviation model will work best for this scenario. On the other hand, if it is important to give greater weight to the outliers in the dataset, then the ordinary least square method will work better.  \n",
    "\n",
    "The graph and statistics show that my implementation of the LAD model is pretty close to the implementation of the LAD model in the statsmodels package. However, my implementation of the ordinary least square model is off from the implementation of that model in statsmodels. For some reason, my implementation of the ordinary least square model is not as heavily by the outliers in the datasets comparing to the implementation of statsmodels. Since the ordinary least square model should be affected heavily by the outliers in the dataset, I am examining why my implementation was not as heavily affected as the implementation of statsmodels. So far I have tested all the components of all the functions and done some calculations manually to compare what each component of the functions returns. All components are adding up correctly so far, so I am assuming it probably have to do with the shaping of the matrices and the reshaping processes that I did in some of the functions."
   ]
  }
 ],
 "metadata": {
  "kernelspec": {
   "display_name": "Python 3",
   "language": "python",
   "name": "python3"
  },
  "language_info": {
   "codemirror_mode": {
    "name": "ipython",
    "version": 3
   },
   "file_extension": ".py",
   "mimetype": "text/x-python",
   "name": "python",
   "nbconvert_exporter": "python",
   "pygments_lexer": "ipython3",
   "version": "3.7.3"
  }
 },
 "nbformat": 4,
 "nbformat_minor": 2
}
